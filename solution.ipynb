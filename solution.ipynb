{
 "cells": [
  {
   "cell_type": "markdown",
   "metadata": {},
   "source": [
    "# Data Science Society Term 2 Workshop 3 - Word Embedding (Solutions)"
   ]
  },
  {
   "cell_type": "code",
   "execution_count": null,
   "metadata": {},
   "outputs": [],
   "source": [
    "!pip install keras"
   ]
  },
  {
   "cell_type": "code",
   "execution_count": null,
   "metadata": {},
   "outputs": [],
   "source": [
    "!pip install theano"
   ]
  },
  {
   "cell_type": "code",
   "execution_count": null,
   "metadata": {},
   "outputs": [],
   "source": [
    "import os\n",
    "os.environ['KERAS_BACKEND'] = \"theano\"\n",
    "import keras\n",
    "from keras.models import Sequential\n",
    "from keras.preprocessing import sequence\n",
    "from keras.preprocessing.text import one_hot\n",
    "from keras.preprocessing.sequence import pad_sequences\n",
    "from keras.layers import Dense, Flatten, Embedding\n",
    "import numpy as np\n",
    "import matplotlib.pyplot as plt\n",
    "%matplotlib inline"
   ]
  },
  {
   "cell_type": "markdown",
   "metadata": {},
   "source": [
    "The code cell below loads in the IMDb dataset. The dataset consists of words from movie reviews already encoded as we did before with the ````one_hot```` function. The ````vocab_size```` is set to ````500````. Your task is to construct a model similar to the one before that tries to determine whether the sentiment of the review is positivie or negative."
   ]
  },
  {
   "cell_type": "code",
   "execution_count": null,
   "metadata": {},
   "outputs": [],
   "source": [
    "# Vocabulary size\n",
    "vocab_size = 500\n",
    "\n",
    "# Loads in dataset in sequential form\n",
    "(X_train, y_train), (X_test, y_test) = keras.datasets.imdb.load_data(num_words=vocab_size)"
   ]
  },
  {
   "cell_type": "markdown",
   "metadata": {},
   "source": [
    "## Padding\n",
    "Using a maximum length of $500$, pad the sequences for the ````X_train```` and ````X_test```` data."
   ]
  },
  {
   "cell_type": "code",
   "execution_count": null,
   "metadata": {},
   "outputs": [],
   "source": [
    "# Sets max length of the data to 500\n",
    "max_length = 500\n",
    "\n",
    "# Ensures all data is of the specified length\n",
    "X_train = pad_sequences(X_train, max_length)\n",
    "X_test = pad_sequences(X_test, max_length)"
   ]
  },
  {
   "cell_type": "markdown",
   "metadata": {},
   "source": [
    "## Building the Model\n",
    "Build and train a neural network with the following features:\n",
    "- Starts with an embedding layer with vocabulary size and input length as defined above. The vector space should consist of 32 dimensions.\n",
    "- Contains at least one hidden layer.\n",
    "- Output layer has one neuron and uses the sigmoid activation function.\n",
    "- Loss function should be ````binary_crossentropy````.\n",
    "- Keep track of the accuracy."
   ]
  },
  {
   "cell_type": "code",
   "execution_count": null,
   "metadata": {},
   "outputs": [],
   "source": [
    "# Chooses the sequential model for our neural network\n",
    "model = Sequential()\n",
    "\n",
    "# Embedding layer with 32 dimensions in vector space\n",
    "model.add(Embedding(vocab_size, 32, input_length=max_length))\n",
    "\n",
    "# Flattens data\n",
    "model.add(Flatten())\n",
    "\n",
    "# Hidden layer with 200 neurons and a rectified linear activation function\n",
    "model.add(Dense(200, activation='relu'))\n",
    "\n",
    "# Output layer using one neuron and the sigmoid activation function\n",
    "model.add(Dense(1, activation='sigmoid'))\n",
    "\n",
    "# Training parameters\n",
    "model.compile(optimizer=\"adam\",\n",
    "              loss=\"binary_crossentropy\",\n",
    "              metrics=[\"accuracy\"])\n",
    "\n",
    "# Trains model for 3 epochs\n",
    "model.fit(X_train,y_train,epochs=3)"
   ]
  },
  {
   "cell_type": "markdown",
   "metadata": {},
   "source": [
    "## Evaluation\n",
    "Now evaluate the performance of your model."
   ]
  },
  {
   "cell_type": "code",
   "execution_count": null,
   "metadata": {},
   "outputs": [],
   "source": [
    "# Evaluating the performance of the model\n",
    "loss, accuracy = model.evaluate(X_test,y_test)\n",
    "print(accuracy)"
   ]
  }
 ],
 "metadata": {
  "kernelspec": {
   "display_name": "Python 3",
   "language": "python",
   "name": "python3"
  },
  "language_info": {
   "codemirror_mode": {
    "name": "ipython",
    "version": 3
   },
   "file_extension": ".py",
   "mimetype": "text/x-python",
   "name": "python",
   "nbconvert_exporter": "python",
   "pygments_lexer": "ipython3",
   "version": "3.7.3"
  }
 },
 "nbformat": 4,
 "nbformat_minor": 2
}
